{
 "cells": [
  {
   "cell_type": "code",
   "execution_count": 1,
   "metadata": {},
   "outputs": [
    {
     "ename": "ModuleNotFoundError",
     "evalue": "No module named 'core'",
     "output_type": "error",
     "traceback": [
      "\u001b[1;31m---------------------------------------------------------------------------\u001b[0m",
      "\u001b[1;31mModuleNotFoundError\u001b[0m                       Traceback (most recent call last)",
      "Cell \u001b[1;32mIn[1], line 2\u001b[0m\n\u001b[0;32m      1\u001b[0m \u001b[38;5;28;01mfrom\u001b[39;00m \u001b[38;5;21;01msources\u001b[39;00m \u001b[38;5;28;01mimport\u001b[39;00m get_legal_documents\n\u001b[1;32m----> 2\u001b[0m \u001b[38;5;28;01mfrom\u001b[39;00m \u001b[38;5;21;01mcore\u001b[39;00m\u001b[38;5;21;01m.\u001b[39;00m\u001b[38;5;21;01mdocument_loader\u001b[39;00m \u001b[38;5;28;01mimport\u001b[39;00m get_RAW_documents\n\u001b[0;32m      3\u001b[0m \u001b[38;5;28;01mfrom\u001b[39;00m \u001b[38;5;21;01mcore\u001b[39;00m\u001b[38;5;21;01m.\u001b[39;00m\u001b[38;5;21;01mdocument_processor\u001b[39;00m \u001b[38;5;28;01mimport\u001b[39;00m DocumentProcessor\n\u001b[0;32m      5\u001b[0m docs \u001b[38;5;241m=\u001b[39m get_legal_documents()\n",
      "\u001b[1;31mModuleNotFoundError\u001b[0m: No module named 'core'"
     ]
    }
   ],
   "source": [
    "from sources import get_legal_documents\n",
    "from document_loader import get_RAW_documents\n",
    "from document_processor import DocumentProcessor\n",
    "\n",
    "docs = get_legal_documents()\n",
    "raw = get_RAW_documents(docs)\n",
    "\n",
    "doc_processor = DocumentProcessor(raw)\n",
    "doc_processor.process()\n"
   ]
  },
  {
   "cell_type": "code",
   "execution_count": 9,
   "metadata": {},
   "outputs": [],
   "source": [
    "from legal_chatbot_model import LegalChatbotModel\n",
    "from memory import Memmory\n",
    "from sources import DEFAULT_CONTEXT\n",
    "\n",
    "memory = Memmory(context=DEFAULT_CONTEXT)\n",
    "chatbot = LegalChatbotModel(memory=memory, legal_docs=doc_processor.documents)"
   ]
  },
  {
   "cell_type": "code",
   "execution_count": 10,
   "metadata": {},
   "outputs": [],
   "source": [
    "query = \"hola, soy Paulo Aguilar\""
   ]
  },
  {
   "cell_type": "code",
   "execution_count": 11,
   "metadata": {},
   "outputs": [
    {
     "data": {
      "text/plain": [
       "'Sistema: Eres un bot de la Universidad Técnica de Machala que contesta dudas sobre normas legales internas de la universidad.\\n    Tu nombre es: LegalBot\\n    Tu rol es: Bot\\n    El rol del humano es: Humano\\n    Conversación actual:\\n    \\nBot: \\n'"
      ]
     },
     "execution_count": 11,
     "metadata": {},
     "output_type": "execute_result"
    }
   ],
   "source": [
    "chatbot.get_next_prompt(query)"
   ]
  },
  {
   "cell_type": "code",
   "execution_count": 12,
   "metadata": {},
   "outputs": [
    {
     "data": {
      "text/plain": [
       "'    LegalBot: Hola Paulo, soy LegalBot, ¿en qué puedo ayudarte?'"
      ]
     },
     "execution_count": 12,
     "metadata": {},
     "output_type": "execute_result"
    }
   ],
   "source": [
    "chatbot.chat(query)"
   ]
  },
  {
   "cell_type": "code",
   "execution_count": 13,
   "metadata": {},
   "outputs": [
    {
     "data": {
      "text/plain": [
       "'Bot: LegalBot: La Universidad Técnica de Machala ofrece una variedad de programas de postgrado en diferentes áreas, como maestrías y doctorados en Ciencias de la Educación, Ingeniería Civil, Derecho, Medicina, entre otros. ¿Te gustaría más información sobre alguno en particular?'"
      ]
     },
     "execution_count": 13,
     "metadata": {},
     "output_type": "execute_result"
    }
   ],
   "source": [
    "query = \"Que tipo de programas de postgrado puede ofrecer la U?\"\n",
    "chatbot.chat(query)"
   ]
  },
  {
   "cell_type": "code",
   "execution_count": 14,
   "metadata": {},
   "outputs": [
    {
     "data": {
      "text/plain": [
       "'Bot: LegalBot: Puedes encontrar información sobre los tipos de postgrados en el artículo 23 del Reglamento de Estudios de Posgrado de la Universidad Técnica de Machala. ¿Necesitas que te proporcione una copia del reglamento?'"
      ]
     },
     "execution_count": 14,
     "metadata": {},
     "output_type": "execute_result"
    }
   ],
   "source": [
    "query = \"En que articulo de que reglamento podria encontrar informacion sobre los tipos de postgrados?\"\n",
    "chatbot.chat(query)\n"
   ]
  }
 ],
 "metadata": {
  "kernelspec": {
   "display_name": "env",
   "language": "python",
   "name": "python3"
  },
  "language_info": {
   "codemirror_mode": {
    "name": "ipython",
    "version": 3
   },
   "file_extension": ".py",
   "mimetype": "text/x-python",
   "name": "python",
   "nbconvert_exporter": "python",
   "pygments_lexer": "ipython3",
   "version": "3.11.5"
  }
 },
 "nbformat": 4,
 "nbformat_minor": 2
}
